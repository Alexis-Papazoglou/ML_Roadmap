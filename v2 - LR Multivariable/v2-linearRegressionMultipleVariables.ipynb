{
 "cells": [
  {
   "cell_type": "code",
   "execution_count": null,
   "metadata": {},
   "outputs": [],
   "source": [
    "import numpy as np\n",
    "import pandas as pd\n",
    "import matplotlib.pyplot as plt\n",
    "from sklearn import linear_model"
   ]
  },
  {
   "cell_type": "markdown",
   "metadata": {},
   "source": [
    "1.Working with data\n",
    "    ,fixing missing points of data"
   ]
  },
  {
   "cell_type": "code",
   "execution_count": null,
   "metadata": {},
   "outputs": [],
   "source": [
    "df = pd.read_csv('prices.csv')\n",
    "column_mean = df['bedrooms'].mean()\n",
    "column_mean = np.floor(column_mean)\n",
    "column_mean\n",
    "\n",
    "df['bedrooms'].fillna(column_mean,inplace=True)\n",
    "df.to_csv('updated_prices.csv',index=False)"
   ]
  },
  {
   "cell_type": "markdown",
   "metadata": {},
   "source": [
    "Working with the new data"
   ]
  },
  {
   "cell_type": "code",
   "execution_count": null,
   "metadata": {},
   "outputs": [],
   "source": [
    "df = pd.read_csv('updated_prices.csv')\n",
    "df"
   ]
  },
  {
   "cell_type": "markdown",
   "metadata": {},
   "source": [
    "2.Training the model"
   ]
  },
  {
   "cell_type": "code",
   "execution_count": null,
   "metadata": {},
   "outputs": [],
   "source": [
    "reg = linear_model.LinearRegression()\n",
    "reg.fit(df[['area','bedrooms','age']],df.price)\n",
    "#model is ready"
   ]
  },
  {
   "cell_type": "markdown",
   "metadata": {},
   "source": [
    "3.Working with the model"
   ]
  },
  {
   "cell_type": "code",
   "execution_count": null,
   "metadata": {},
   "outputs": [],
   "source": [
    "print('cofs :', reg.coef_ , '\\nintercept :' ,reg.intercept_)"
   ]
  },
  {
   "cell_type": "markdown",
   "metadata": {},
   "source": [
    "Make predictions"
   ]
  },
  {
   "cell_type": "code",
   "execution_count": null,
   "metadata": {},
   "outputs": [],
   "source": [
    "pr1 = reg.predict([[3000,3,40]]) #137.25*3000 + -26025*3 + -6825*40 + 383725\n",
    "pr2 = reg.predict([[2500,4,5]])\n",
    "pr1,pr2"
   ]
  },
  {
   "cell_type": "markdown",
   "metadata": {},
   "source": [
    "Trying to view the reggresion function"
   ]
  },
  {
   "cell_type": "code",
   "execution_count": null,
   "metadata": {},
   "outputs": [],
   "source": [
    "import matplotlib.pyplot as plt\n",
    "from mpl_toolkits.mplot3d import Axes3D\n",
    "\n",
    "# Create a 3D plot\n",
    "fig = plt.figure(figsize=(10, 8))\n",
    "ax = fig.add_subplot(111, projection='3d')\n",
    "\n",
    "# Plot the data points\n",
    "ax.scatter(df['area'], df['bedrooms'], df['price'], c=df['price'], cmap='viridis', s=50, alpha=0.6, label='Data points')\n",
    "\n",
    "# Create a meshgrid for visualization\n",
    "area_vals = np.linspace(df['area'].min(), df['area'].max(), 100)\n",
    "bedroom_vals = np.linspace(df['bedrooms'].min(), df['bedrooms'].max(), 100)\n",
    "area_mesh, bedroom_mesh = np.meshgrid(area_vals, bedroom_vals)\n",
    "\n",
    "# Make predictions for the entire meshgrid\n",
    "input_data = np.column_stack((area_mesh.flatten(), bedroom_mesh.flatten(), np.zeros_like(area_mesh.flatten())))\n",
    "price_pred = reg.predict(input_data)\n",
    "\n",
    "# Reshape the predictions to match the shape of the meshgrid\n",
    "price_pred = price_pred.reshape(area_mesh.shape)\n",
    "\n",
    "# Plot the regression surface using plot_surface\n",
    "ax.plot_surface(area_mesh, bedroom_mesh, price_pred, alpha=0.5, cmap='viridis', label='Regression surface')\n",
    "\n",
    "# Set labels\n",
    "ax.set_xlabel('Area')\n",
    "ax.set_ylabel('Bedrooms')\n",
    "ax.set_zlabel('Price')\n",
    "\n",
    "# Add a colorbar\n",
    "cbar = plt.colorbar(ax.scatter(df['area'], df['bedrooms'], df['price'], c=df['price'], cmap='viridis', alpha=0.6))\n",
    "cbar.set_label('Price')\n",
    "\n",
    "# Show the plot\n",
    "plt.show()"
   ]
  }
 ],
 "metadata": {
  "kernelspec": {
   "display_name": "base",
   "language": "python",
   "name": "python3"
  },
  "language_info": {
   "codemirror_mode": {
    "name": "ipython",
    "version": 3
   },
   "file_extension": ".py",
   "mimetype": "text/x-python",
   "name": "python",
   "nbconvert_exporter": "python",
   "pygments_lexer": "ipython3",
   "version": "3.11.5"
  }
 },
 "nbformat": 4,
 "nbformat_minor": 2
}
